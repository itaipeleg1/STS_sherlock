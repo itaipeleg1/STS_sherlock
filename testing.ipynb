{
 "cells": [
  {
   "cell_type": "markdown",
   "metadata": {},
   "source": [
    "### This Note book is dedicated to compute Graphs and Testing"
   ]
  },
  {
   "cell_type": "code",
   "execution_count": 1,
   "metadata": {},
   "outputs": [],
   "source": [
    "import os\n",
    "import numpy as np\n",
    "import os\n",
    "import numpy as np\n",
    "import scipy\n",
    "import nibabel as nib\n",
    "from nilearn import image"
   ]
  },
  {
   "cell_type": "code",
   "execution_count": 2,
   "metadata": {},
   "outputs": [],
   "source": [
    "## Correlation between annotations\n",
    "\n",
    "def cosine_between_annotations(annotations1, annotations2):\n",
    "    \"\"\"\n",
    "    Compute the correlation between two annotations numpy.\n",
    "    \"\"\"\n",
    "    if len(annotations1)>len(annotations2):\n",
    "        annotations1 = annotations1[:len(annotations2)]\n",
    "    else:\n",
    "        annotations2 = annotations2[:len(annotations1)]\n",
    "    if len(annotations1.shape)>1:\n",
    "        annotations1 = annotations1.flatten()\n",
    "    if len(annotations2.shape)>1:\n",
    "        annotations2 = annotations2.flatten()\n",
    "    cosine = scipy.spatial.distance.cosine(annotations1, annotations2)\n",
    "    pearson = scipy.stats.pearsonr(annotations1, annotations2)[0]\n",
    "    correlation = np.corrcoef(annotations1.flatten(), annotations2.flatten())[0, 1]\n",
    "    return cosine ,len(annotations1),len(annotations2)"
   ]
  },
  {
   "cell_type": "code",
   "execution_count": 3,
   "metadata": {},
   "outputs": [],
   "source": [
    "anot1 = np.load(r\"C:\\uni\\Msc Brain\\Lab work\\STS_sherlock\\projects data\\annotations\\social_speak_music.npy\")\n",
    "anot2 = np.load(r\"C:\\uni\\Msc Brain\\Lab work\\STS_sherlock\\projects data\\annotations\\llava_social_speak_full.npy\")\n",
    "anot3 = np.load(r\"C:\\uni\\Msc Brain\\Lab work\\STS_sherlock\\projects data\\annotations\\llava_social_speak_final.npy\")\n",
    "leyla = np.load(r\"C:\\uni\\Msc Brain\\Lab work\\STS_sherlock\\projects data\\annotations\\social_nonsocial_convert.npy\")"
   ]
  },
  {
   "cell_type": "code",
   "execution_count": 4,
   "metadata": {},
   "outputs": [
    {
     "name": "stdout",
     "output_type": "stream",
     "text": [
      "(0.18374806145989708, 1975, 1975)\n",
      "(0.13713258081295343, 1976, 1976)\n",
      "(0.1418237905340537, 1053, 1053)\n"
     ]
    }
   ],
   "source": [
    "print(cosine_between_annotations(anot1, leyla))\n",
    "print(cosine_between_annotations(anot2, leyla))\n",
    "print(cosine_between_annotations(anot3, leyla))\n"
   ]
  }
 ],
 "metadata": {
  "kernelspec": {
   "display_name": "sts",
   "language": "python",
   "name": "python3"
  },
  "language_info": {
   "codemirror_mode": {
    "name": "ipython",
    "version": 3
   },
   "file_extension": ".py",
   "mimetype": "text/x-python",
   "name": "python",
   "nbconvert_exporter": "python",
   "pygments_lexer": "ipython3",
   "version": "3.8.20"
  }
 },
 "nbformat": 4,
 "nbformat_minor": 2
}
